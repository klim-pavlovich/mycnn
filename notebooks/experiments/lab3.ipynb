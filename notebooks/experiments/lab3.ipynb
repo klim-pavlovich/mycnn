{
 "cells": [
  {
   "cell_type": "code",
   "execution_count": 30,
   "metadata": {},
   "outputs": [],
   "source": [
    "import pandas as pd\n",
    "from sklearn.preprocessing import LabelEncoder\n",
    "from sklearn.preprocessing import MinMaxScaler\n",
    "# Загрузка данных\n",
    "df = pd.read_csv('C:/Users/klimm/Desktop/lab2/data/Steel_industry_data.csv')"
   ]
  },
  {
   "cell_type": "code",
   "execution_count": 31,
   "metadata": {},
   "outputs": [
    {
     "name": "stdout",
     "output_type": "stream",
     "text": [
      "               date  Usage_kWh  Lagging_Current_Reactive.Power_kVarh   \n",
      "0  01/01/2018 00:15       3.17                                  2.95  \\\n",
      "1  01/01/2018 00:30       4.00                                  4.46   \n",
      "2  01/01/2018 00:45       3.24                                  3.28   \n",
      "3  01/01/2018 01:00       3.31                                  3.56   \n",
      "4  01/01/2018 01:15       3.82                                  4.50   \n",
      "\n",
      "   Leading_Current_Reactive_Power_kVarh  CO2(tCO2)   \n",
      "0                                   0.0        0.0  \\\n",
      "1                                   0.0        0.0   \n",
      "2                                   0.0        0.0   \n",
      "3                                   0.0        0.0   \n",
      "4                                   0.0        0.0   \n",
      "\n",
      "   Lagging_Current_Power_Factor  Leading_Current_Power_Factor   NSM   \n",
      "0                         73.21                         100.0   900  \\\n",
      "1                         66.77                         100.0  1800   \n",
      "2                         70.28                         100.0  2700   \n",
      "3                         68.09                         100.0  3600   \n",
      "4                         64.72                         100.0  4500   \n",
      "\n",
      "  WeekStatus Day_of_week   Load_Type  \n",
      "0    Weekday      Monday  Light_Load  \n",
      "1    Weekday      Monday  Light_Load  \n",
      "2    Weekday      Monday  Light_Load  \n",
      "3    Weekday      Monday  Light_Load  \n",
      "4    Weekday      Monday  Light_Load  \n"
     ]
    }
   ],
   "source": [
    "# Просмотр первых нескольких строк\n",
    "print(df.head())"
   ]
  },
  {
   "cell_type": "code",
   "execution_count": 32,
   "metadata": {},
   "outputs": [
    {
     "name": "stdout",
     "output_type": "stream",
     "text": [
      "<class 'pandas.core.frame.DataFrame'>\n",
      "RangeIndex: 35040 entries, 0 to 35039\n",
      "Data columns (total 11 columns):\n",
      " #   Column                                Non-Null Count  Dtype  \n",
      "---  ------                                --------------  -----  \n",
      " 0   date                                  35040 non-null  object \n",
      " 1   Usage_kWh                             35040 non-null  float64\n",
      " 2   Lagging_Current_Reactive.Power_kVarh  35040 non-null  float64\n",
      " 3   Leading_Current_Reactive_Power_kVarh  35040 non-null  float64\n",
      " 4   CO2(tCO2)                             35040 non-null  float64\n",
      " 5   Lagging_Current_Power_Factor          35040 non-null  float64\n",
      " 6   Leading_Current_Power_Factor          35040 non-null  float64\n",
      " 7   NSM                                   35040 non-null  int64  \n",
      " 8   WeekStatus                            35040 non-null  object \n",
      " 9   Day_of_week                           35040 non-null  object \n",
      " 10  Load_Type                             35040 non-null  object \n",
      "dtypes: float64(6), int64(1), object(4)\n",
      "memory usage: 2.9+ MB\n",
      "None\n"
     ]
    }
   ],
   "source": [
    "# Получение информации о датасете\n",
    "print(df.info())"
   ]
  },
  {
   "cell_type": "code",
   "execution_count": 33,
   "metadata": {},
   "outputs": [
    {
     "name": "stdout",
     "output_type": "stream",
     "text": [
      "          Usage_kWh  Lagging_Current_Reactive.Power_kVarh   \n",
      "count  35040.000000                          35040.000000  \\\n",
      "mean      27.386892                             13.035384   \n",
      "std       33.444380                             16.306000   \n",
      "min        0.000000                              0.000000   \n",
      "25%        3.200000                              2.300000   \n",
      "50%        4.570000                              5.000000   \n",
      "75%       51.237500                             22.640000   \n",
      "max      157.180000                             96.910000   \n",
      "\n",
      "       Leading_Current_Reactive_Power_kVarh     CO2(tCO2)   \n",
      "count                          35040.000000  35040.000000  \\\n",
      "mean                               3.870949      0.011524   \n",
      "std                                7.424463      0.016151   \n",
      "min                                0.000000      0.000000   \n",
      "25%                                0.000000      0.000000   \n",
      "50%                                0.000000      0.000000   \n",
      "75%                                2.090000      0.020000   \n",
      "max                               27.760000      0.070000   \n",
      "\n",
      "       Lagging_Current_Power_Factor  Leading_Current_Power_Factor   \n",
      "count                  35040.000000                  35040.000000  \\\n",
      "mean                      80.578056                     84.367870   \n",
      "std                       18.921322                     30.456535   \n",
      "min                        0.000000                      0.000000   \n",
      "25%                       63.320000                     99.700000   \n",
      "50%                       87.960000                    100.000000   \n",
      "75%                       99.022500                    100.000000   \n",
      "max                      100.000000                    100.000000   \n",
      "\n",
      "                NSM  \n",
      "count  35040.000000  \n",
      "mean   42750.000000  \n",
      "std    24940.534317  \n",
      "min        0.000000  \n",
      "25%    21375.000000  \n",
      "50%    42750.000000  \n",
      "75%    64125.000000  \n",
      "max    85500.000000  \n"
     ]
    }
   ],
   "source": [
    "# Статистическое описание числовых столбцов\n",
    "print(df.describe())"
   ]
  },
  {
   "cell_type": "markdown",
   "metadata": {},
   "source": [
    "# Суть задачи\n",
    "Суть задачи заключается в прогнозировании потребления электроэнергии (Usage_kWh) на основе других переменных в датасете."
   ]
  },
  {
   "cell_type": "markdown",
   "metadata": {},
   "source": [
    "# Описание данных\n",
    "\n",
    "1. **date** (object): Дата, когда были собраны данные.\n",
    "2. **Usage_kWh** (float64): Таргет, количество потребляемой электроэнергии в киловатт-часах (kWh). \n",
    "3. **Lagging_Current_Reactive.Power_kVarh** (float64): Реактивная мощность, которая отстает от активной мощности. Это может быть связано с индуктивными нагрузками, такими как двигатели и трансформаторы.\n",
    "3. **Lagging_Current_Reactive.Power_kVarh** (float64): Реактивная мощность, которая отстает от активной мощности. Это может быть связано с индуктивными нагрузками, такими как двигатели и трансформаторы.\n",
    "4. **Leading_Current_Reactive_Power_kVarh** (float64): Реактивная мощность, которая опережает активную мощность. Это может быть связано с емкостными нагрузками, такими как конденсаторы.\n",
    "CO2(tCO2) (float64): Количество выбросов углекислого газа в тоннах. Этот показатель может быть важен для оценки воздействия на окружающую среду.\n",
    "6. **Lagging_Current_Power_Factor** (float64): Коэффициент мощности, который показывает, насколько эффективно используется электрическая энергия. Значение меньше 1 указывает на наличие реактивной мощности.\n",
    "7. **Leading_Current_Power_Factor** (float64): Аналогично предыдущему, но для емкостных нагрузок.\n",
    "8. **NSM** (int64): Вероятно, это идентификатор или код, связанный с конкретной установкой или процессом.\n",
    "9. **WeekStatus** (object): Статус недели (например, рабочая неделя или выходные). Это может быть полезно для анализа сезонных или временных паттернов.\n",
    "10. **Day_of_week** (object): День недели. Это также может помочь в анализе временных паттернов.\n",
    "11. **Load_Type** (object): Тип нагрузки, который может указывать на различные режимы работы оборудования или процессов."
   ]
  },
  {
   "cell_type": "code",
   "execution_count": 34,
   "metadata": {},
   "outputs": [],
   "source": [
    "# import numpy as np\n",
    "\n",
    "# class MinMaxScaler:\n",
    "#     def __init__(self, feature_range=(0, 1)):\n",
    "#         self.min = None\n",
    "#         self.max = None\n",
    "#         self.feature_range = feature_range\n",
    "\n",
    "#     def fit(self, X):\n",
    "#         \"\"\"Подгонка MinMaxScaler к данным.\"\"\"\n",
    "#         self.min = np.min(X, axis=0)\n",
    "#         self.max = np.max(X, axis=0)\n",
    "\n",
    "#     def transform(self, X):\n",
    "#         \"\"\"Преобразование данных с использованием MinMaxScaler.\"\"\"\n",
    "#         # Проверка, что fit был вызван\n",
    "#         if self.min is None or self.max is None:\n",
    "#             raise RuntimeError(\"You must fit the scaler before transforming data.\")\n",
    "        \n",
    "#         # Нормализация\n",
    "#         X_scaled = (X - self.min) / (self.max - self.min)\n",
    "        \n",
    "#         # Масштабирование в заданный диапазон\n",
    "#         X_scaled = X_scaled * (self.feature_range[1] - self.feature_range[0]) + self.feature_range[0]\n",
    "        \n",
    "#         return X_scaled\n",
    "\n",
    "#     def fit_transform(self, X):\n",
    "#         \"\"\"Подгонка и преобразование данных.\"\"\"\n",
    "#         self.fit(X)\n",
    "#         return self.transform(X)\n",
    "\n",
    "#     def inverse_transform(self, X_scaled):\n",
    "#         \"\"\"Обратное преобразование для получения оригинальных данных.\"\"\"\n",
    "#         # Проверка, что fit был вызван\n",
    "#         if self.min is None or self.max is None:\n",
    "#             raise RuntimeError(\"You must fit the scaler before inverse transforming data.\")\n",
    "        \n",
    "#         # Обратное масштабирование\n",
    "#         X_original = (X_scaled - self.feature_range[0]) / (self.feature_range[1] - self.feature_range[0])\n",
    "#         X_original = X_original * (self.max - self.min) + self.min\n",
    "        \n",
    "#         return X_original"
   ]
  },
  {
   "cell_type": "code",
   "execution_count": 35,
   "metadata": {},
   "outputs": [
    {
     "ename": "AttributeError",
     "evalue": "'numpy.ndarray' object has no attribute 'select_dtypes'",
     "output_type": "error",
     "traceback": [
      "\u001b[1;31m---------------------------------------------------------------------------\u001b[0m",
      "\u001b[1;31mAttributeError\u001b[0m                            Traceback (most recent call last)",
      "Cell \u001b[1;32mIn[35], line 16\u001b[0m\n\u001b[0;32m     13\u001b[0m Y \u001b[38;5;241m=\u001b[39m df[\u001b[38;5;124m'\u001b[39m\u001b[38;5;124mUsage_kWh\u001b[39m\u001b[38;5;124m'\u001b[39m]\u001b[38;5;241m.\u001b[39mvalues  \u001b[38;5;66;03m# Целевая переменная\u001b[39;00m\n\u001b[0;32m     15\u001b[0m \u001b[38;5;66;03m# Выбор только числовых столбцов для нормализации\u001b[39;00m\n\u001b[1;32m---> 16\u001b[0m X_numeric \u001b[38;5;241m=\u001b[39m \u001b[43mX\u001b[49m\u001b[38;5;241;43m.\u001b[39;49m\u001b[43mselect_dtypes\u001b[49m(include\u001b[38;5;241m=\u001b[39m[np\u001b[38;5;241m.\u001b[39mnumber])  \u001b[38;5;66;03m# Выбираем только числовые столбцы\u001b[39;00m\n\u001b[0;32m     18\u001b[0m \u001b[38;5;66;03m# Инициализация и подгонка MinMaxScaler\u001b[39;00m\n\u001b[0;32m     19\u001b[0m scaler \u001b[38;5;241m=\u001b[39m MinMaxScaler(feature_range\u001b[38;5;241m=\u001b[39m(\u001b[38;5;241m0\u001b[39m, \u001b[38;5;241m1\u001b[39m))\n",
      "\u001b[1;31mAttributeError\u001b[0m: 'numpy.ndarray' object has no attribute 'select_dtypes'"
     ]
    }
   ],
   "source": [
    "\n",
    "\n",
    "# Инициализация LabelEncoder\n",
    "label_encoders = {}\n",
    "categorical_columns = ['WeekStatus', 'Day_of_week', 'Load_Type']\n",
    "\n",
    "# Применение LabelEncoder к категориальным признакам\n",
    "for column in categorical_columns:\n",
    "    le = LabelEncoder()\n",
    "    df[column] = le.fit_transform(df[column])  # Преобразование категорий в числовые метки\n",
    "    label_encoders[column] = le  # Сохранение энкодера для возможного обратного преобразования\n",
    "\n",
    "# Определение целевой переменной и признаков\n",
    "X = df.drop('Usage_kWh', axis=1).values  # Все столбцы, кроме целевой переменной\n",
    "Y = df['Usage_kWh'].values  # Целевая переменная\n",
    "\n",
    "# Выбор только числовых столбцов для нормализации\n",
    "X_numeric = X.select_dtypes(include=[np.number])  # Выбираем только числовые столбцы\n",
    "\n",
    "# Инициализация и подгонка MinMaxScaler\n",
    "scaler = MinMaxScaler(feature_range=(0, 1))\n",
    "scaled_data = scaler.fit_transform(X_numeric)  # Применяем к числовым данным\n",
    "\n",
    "print(\"Исходные данные:\")\n",
    "print(df.head())\n",
    "print(\"Нормализованные данные:\")\n",
    "print(scaled_data)"
   ]
  }
 ],
 "metadata": {
  "kernelspec": {
   "display_name": "Python 3",
   "language": "python",
   "name": "python3"
  },
  "language_info": {
   "codemirror_mode": {
    "name": "ipython",
    "version": 3
   },
   "file_extension": ".py",
   "mimetype": "text/x-python",
   "name": "python",
   "nbconvert_exporter": "python",
   "pygments_lexer": "ipython3",
   "version": "3.11.4"
  }
 },
 "nbformat": 4,
 "nbformat_minor": 2
}
